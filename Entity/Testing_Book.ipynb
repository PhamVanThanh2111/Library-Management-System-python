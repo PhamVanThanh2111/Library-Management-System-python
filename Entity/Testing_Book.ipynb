{
 "cells": [
  {
   "cell_type": "code",
   "execution_count": 1,
   "metadata": {},
   "outputs": [
    {
     "name": "stdout",
     "output_type": "stream",
     "text": [
      "bcode: B001\n",
      "title: Introduction to Python Programming\n",
      "quantity: 10\n",
      "lended: 6\n",
      "price: 25.99\n",
      "\n",
      "bcode: B002\n",
      "title: Data Structures and Algorithms in Python\n",
      "quantity: 5\n",
      "lended: 1\n",
      "price: 35.5\n",
      "\n",
      "bcode: B003\n",
      "title: Machine Learning: A Probabilistic Perspective\n",
      "quantity: 8\n",
      "lended: 0\n",
      "price: 42.75\n",
      "\n",
      "bcode: B004\n",
      "title: Artificial Intelligence: A Modern Approach\n",
      "quantity: 3\n",
      "lended: 2\n",
      "price: 55.0\n",
      "\n",
      "bcode: B005\n",
      "title: Deep Learning with Python\n",
      "quantity: 7\n",
      "lended: 3\n",
      "price: 48.2\n",
      "\n",
      "bcode: B006\n",
      "title: Computer Networks: A Top-Down Approach\n",
      "quantity: 12\n",
      "lended: 5\n",
      "price: 39.99\n",
      "\n",
      "bcode: B007\n",
      "title: Operating System Concepts\n",
      "quantity: 9\n",
      "lended: 3\n",
      "price: 47.5\n",
      "\n",
      "bcode: B008\n",
      "title: Database System Concepts\n",
      "quantity: 6\n",
      "lended: 1\n",
      "price: 52.0\n",
      "\n",
      "bcode: B009\n",
      "title: Introduction to Algorithms\n",
      "quantity: 4\n",
      "lended: 0\n",
      "price: 60.25\n",
      "\n",
      "bcode: B010\n",
      "title: The C Programming Language\n",
      "quantity: 11\n",
      "lended: 6\n",
      "price: 32.75\n",
      "\n",
      "bcode: B011\n",
      "title: Web Development with Django\n",
      "quantity: 8\n",
      "lended: 2\n",
      "price: 44.9\n",
      "\n",
      "bcode: B012\n",
      "title: Java: A Beginner's Guide\n",
      "quantity: 14\n",
      "lended: 7\n",
      "price: 36.8\n",
      "\n",
      "bcode: B013\n",
      "title: JavaScript: The Good Parts\n",
      "quantity: 5\n",
      "lended: 1\n",
      "price: 45.0\n",
      "\n",
      "bcode: B014\n",
      "title: Introduction to Computer Graphics\n",
      "quantity: 7\n",
      "lended: 3\n",
      "price: 49.5\n",
      "\n",
      "bcode: B015\n",
      "title: Software Engineering: A Practitioner's Approach\n",
      "quantity: 10\n",
      "lended: 4\n",
      "price: 55.75\n",
      "\n",
      "bcode: B016\n",
      "title: Computer Architecture: A Quantitative Approach\n",
      "quantity: 3\n",
      "lended: 0\n",
      "price: 58.0\n",
      "\n",
      "bcode: B017\n",
      "title: Design Patterns: Elements of Reusable Object-Oriented Software\n",
      "quantity: 6\n",
      "lended: 2\n",
      "price: 41.2\n",
      "\n",
      "bcode: B018\n",
      "title: Introduction to Artificial Intelligence\n",
      "quantity: 9\n",
      "lended: 3\n",
      "price: 46.8\n",
      "\n",
      "bcode: B019\n",
      "title: Python Cookbook\n",
      "quantity: 8\n",
      "lended: 1\n",
      "price: 37.25\n",
      "\n",
      "bcode: B020\n",
      "title: Operating Systems: Internals and Design Principles\n",
      "quantity: 11\n",
      "lended: 5\n",
      "price: 51.5\n",
      "\n",
      "bcode: B021\n",
      "title: Data Mining: Concepts and Techniques\n",
      "quantity: 4\n",
      "lended: 2\n",
      "price: 53.99\n",
      "\n",
      "bcode: B022\n",
      "title: Computer Graphics: Principles and Practice\n",
      "quantity: 6\n",
      "lended: 1\n",
      "price: 48.75\n",
      "\n",
      "bcode: B023\n",
      "title: Algorithms in C\n",
      "quantity: 7\n",
      "lended: 3\n",
      "price: 39.4\n",
      "\n",
      "bcode: B024\n",
      "title: Computer Organization and Design\n",
      "quantity: 10\n",
      "lended: 4\n",
      "price: 57.6\n",
      "\n",
      "bcode: B025\n",
      "title: Pro Git\n",
      "quantity: 9\n",
      "lended: 2\n",
      "price: 34.9\n",
      "\n",
      "bcode: B026\n",
      "title: Introduction to Software Engineering\n",
      "quantity: 6\n",
      "lended: 0\n",
      "price: 43.25\n",
      "\n",
      "bcode: B027\n",
      "title: Python Crash Course\n",
      "quantity: 13\n",
      "lended: 6\n",
      "price: 36.0\n",
      "\n",
      "bcode: B028\n",
      "title: Operating Systems: Three Easy Pieces\n",
      "quantity: 7\n",
      "lended: 2\n",
      "price: 45.75\n",
      "\n",
      "bcode: B029\n",
      "title: Database Management Systems\n",
      "quantity: 8\n",
      "lended: 4\n",
      "price: 49.99\n",
      "\n",
      "bcode: B030\n",
      "title: Computer Networking: A Top-Down Approach\n",
      "quantity: 5\n",
      "lended: 1\n",
      "price: 54.25\n",
      "\n",
      "bcode: B031\n",
      "title: The Great Gatsby\n",
      "quantity: 3\n",
      "lended: 1\n",
      "price: 1925.0\n",
      "\n",
      "bcode: B032\n",
      "title: Python Programming\n",
      "quantity: 13\n",
      "lended: 2\n",
      "price: 50.2\n",
      "\n"
     ]
    }
   ],
   "source": [
    "from Book import Book\n",
    "from BookList import BookList\n",
    "\n",
    "# 1.1.      Load data from file\n",
    "bookList = BookList()\n",
    "bookList.load_from_csv(\"../Data/books.csv\")\n",
    "bookList.display_books()\n"
   ]
  },
  {
   "cell_type": "code",
   "execution_count": 2,
   "metadata": {},
   "outputs": [
    {
     "name": "stdout",
     "output_type": "stream",
     "text": [
      "Python Programming\n",
      "50.2\n"
     ]
    }
   ],
   "source": [
    "# 1.2.      Input & insert data\n",
    "bookList.insert_to_csv(Book(\"B032\", \"Python Programming\", 13, 2, 50.2))\n",
    "print(bookList.search(\"B032\").book.title)\n",
    "print(bookList.search(\"B032\").book.price)"
   ]
  },
  {
   "cell_type": "code",
   "execution_count": 3,
   "metadata": {},
   "outputs": [
    {
     "data": {
      "text/plain": [
       "[('B001', 'Introduction to Python Programming', 10, 6, 25.99),\n",
       " ('B002', 'Data Structures and Algorithms in Python', 5, 1, 35.5),\n",
       " ('B003', 'Machine Learning: A Probabilistic Perspective', 8, 0, 42.75),\n",
       " ('B004', 'Artificial Intelligence: A Modern Approach', 3, 2, 55.0),\n",
       " ('B005', 'Deep Learning with Python', 7, 3, 48.2),\n",
       " ('B006', 'Computer Networks: A Top-Down Approach', 12, 5, 39.99),\n",
       " ('B007', 'Operating System Concepts', 9, 3, 47.5),\n",
       " ('B008', 'Database System Concepts', 6, 1, 52.0),\n",
       " ('B009', 'Introduction to Algorithms', 4, 0, 60.25),\n",
       " ('B010', 'The C Programming Language', 11, 6, 32.75),\n",
       " ('B011', 'Web Development with Django', 8, 2, 44.9),\n",
       " ('B012', \"Java: A Beginner's Guide\", 14, 7, 36.8),\n",
       " ('B013', 'JavaScript: The Good Parts', 5, 1, 45.0),\n",
       " ('B014', 'Introduction to Computer Graphics', 7, 3, 49.5),\n",
       " ('B015', \"Software Engineering: A Practitioner's Approach\", 10, 4, 55.75),\n",
       " ('B016', 'Computer Architecture: A Quantitative Approach', 3, 0, 58.0),\n",
       " ('B017',\n",
       "  'Design Patterns: Elements of Reusable Object-Oriented Software',\n",
       "  6,\n",
       "  2,\n",
       "  41.2),\n",
       " ('B018', 'Introduction to Artificial Intelligence', 9, 3, 46.8),\n",
       " ('B019', 'Python Cookbook', 8, 1, 37.25),\n",
       " ('B020', 'Operating Systems: Internals and Design Principles', 11, 5, 51.5),\n",
       " ('B021', 'Data Mining: Concepts and Techniques', 4, 2, 53.99),\n",
       " ('B022', 'Computer Graphics: Principles and Practice', 6, 1, 48.75),\n",
       " ('B023', 'Algorithms in C', 7, 3, 39.4),\n",
       " ('B024', 'Computer Organization and Design', 10, 4, 57.6),\n",
       " ('B025', 'Pro Git', 9, 2, 34.9),\n",
       " ('B026', 'Introduction to Software Engineering', 6, 0, 43.25),\n",
       " ('B027', 'Python Crash Course', 13, 6, 36.0),\n",
       " ('B028', 'Operating Systems: Three Easy Pieces', 7, 2, 45.75),\n",
       " ('B029', 'Database Management Systems', 8, 4, 49.99),\n",
       " ('B030', 'Computer Networking: A Top-Down Approach', 5, 1, 54.25),\n",
       " ('B031', 'The Great Gatsby', 3, 1, 1925.0),\n",
       " ('B032', 'Python Programming', 13, 2, 50.2)]"
      ]
     },
     "execution_count": 3,
     "metadata": {},
     "output_type": "execute_result"
    }
   ],
   "source": [
    "# 1.3.      In-order traverse\n",
    "bookList.in_order_traversal()"
   ]
  },
  {
   "cell_type": "code",
   "execution_count": 4,
   "metadata": {},
   "outputs": [
    {
     "data": {
      "text/plain": [
       "[('B001', 'Introduction to Python Programming', 10, 6, 25.99),\n",
       " ('B002', 'Data Structures and Algorithms in Python', 5, 1, 35.5),\n",
       " ('B003', 'Machine Learning: A Probabilistic Perspective', 8, 0, 42.75),\n",
       " ('B004', 'Artificial Intelligence: A Modern Approach', 3, 2, 55.0),\n",
       " ('B005', 'Deep Learning with Python', 7, 3, 48.2),\n",
       " ('B006', 'Computer Networks: A Top-Down Approach', 12, 5, 39.99),\n",
       " ('B007', 'Operating System Concepts', 9, 3, 47.5),\n",
       " ('B008', 'Database System Concepts', 6, 1, 52.0),\n",
       " ('B009', 'Introduction to Algorithms', 4, 0, 60.25),\n",
       " ('B010', 'The C Programming Language', 11, 6, 32.75),\n",
       " ('B011', 'Web Development with Django', 8, 2, 44.9),\n",
       " ('B012', \"Java: A Beginner's Guide\", 14, 7, 36.8),\n",
       " ('B013', 'JavaScript: The Good Parts', 5, 1, 45.0),\n",
       " ('B014', 'Introduction to Computer Graphics', 7, 3, 49.5),\n",
       " ('B015', \"Software Engineering: A Practitioner's Approach\", 10, 4, 55.75),\n",
       " ('B016', 'Computer Architecture: A Quantitative Approach', 3, 0, 58.0),\n",
       " ('B017',\n",
       "  'Design Patterns: Elements of Reusable Object-Oriented Software',\n",
       "  6,\n",
       "  2,\n",
       "  41.2),\n",
       " ('B018', 'Introduction to Artificial Intelligence', 9, 3, 46.8),\n",
       " ('B019', 'Python Cookbook', 8, 1, 37.25),\n",
       " ('B020', 'Operating Systems: Internals and Design Principles', 11, 5, 51.5),\n",
       " ('B021', 'Data Mining: Concepts and Techniques', 4, 2, 53.99),\n",
       " ('B022', 'Computer Graphics: Principles and Practice', 6, 1, 48.75),\n",
       " ('B023', 'Algorithms in C', 7, 3, 39.4),\n",
       " ('B024', 'Computer Organization and Design', 10, 4, 57.6),\n",
       " ('B025', 'Pro Git', 9, 2, 34.9),\n",
       " ('B026', 'Introduction to Software Engineering', 6, 0, 43.25),\n",
       " ('B027', 'Python Crash Course', 13, 6, 36.0),\n",
       " ('B028', 'Operating Systems: Three Easy Pieces', 7, 2, 45.75),\n",
       " ('B029', 'Database Management Systems', 8, 4, 49.99),\n",
       " ('B030', 'Computer Networking: A Top-Down Approach', 5, 1, 54.25),\n",
       " ('B031', 'The Great Gatsby', 3, 1, 1925.0),\n",
       " ('B032', 'Python Programming', 13, 2, 50.2)]"
      ]
     },
     "execution_count": 4,
     "metadata": {},
     "output_type": "execute_result"
    }
   ],
   "source": [
    "# 1.4.      Breadth-first traverse \n",
    "bookList.breadth_first_traversal()"
   ]
  },
  {
   "cell_type": "code",
   "execution_count": 5,
   "metadata": {},
   "outputs": [],
   "source": [
    "# 1.5.      In-order traverse to file\n",
    "bookList.in_order_traverse_to_file(\"../Data/books_new.csv\")"
   ]
  },
  {
   "cell_type": "code",
   "execution_count": 6,
   "metadata": {},
   "outputs": [
    {
     "data": {
      "text/plain": [
       "'Python Programming'"
      ]
     },
     "execution_count": 6,
     "metadata": {},
     "output_type": "execute_result"
    }
   ],
   "source": [
    "# 1.6.      Search by bcode \n",
    "bookList.search(\"B032\").book.title"
   ]
  },
  {
   "cell_type": "code",
   "execution_count": 7,
   "metadata": {},
   "outputs": [
    {
     "name": "stdout",
     "output_type": "stream",
     "text": [
      "Không tìm thấy sách với mã sách cần tìm\n"
     ]
    }
   ],
   "source": [
    "# 1.7.      Delete by bcode by copying\n",
    "bookList.delete_by_bcode_copying(\"B032\")\n",
    "print(bookList.search(\"B032\"))"
   ]
  },
  {
   "cell_type": "code",
   "execution_count": 8,
   "metadata": {},
   "outputs": [],
   "source": [
    "# 1.8.      Simply balancing\n",
    "bookList.simply_balancing()"
   ]
  },
  {
   "cell_type": "code",
   "execution_count": 9,
   "metadata": {},
   "outputs": [
    {
     "data": {
      "text/plain": [
       "31"
      ]
     },
     "execution_count": 9,
     "metadata": {},
     "output_type": "execute_result"
    }
   ],
   "source": [
    "# 1.9.      Count number of books\n",
    "bookList.count_number_of_books()"
   ]
  }
 ],
 "metadata": {
  "kernelspec": {
   "display_name": "Python 3",
   "language": "python",
   "name": "python3"
  },
  "language_info": {
   "codemirror_mode": {
    "name": "ipython",
    "version": 3
   },
   "file_extension": ".py",
   "mimetype": "text/x-python",
   "name": "python",
   "nbconvert_exporter": "python",
   "pygments_lexer": "ipython3",
   "version": "3.11.8"
  }
 },
 "nbformat": 4,
 "nbformat_minor": 2
}
